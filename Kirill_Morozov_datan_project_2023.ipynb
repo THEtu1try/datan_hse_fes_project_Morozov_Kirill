{
  "cells": [
    {
      "cell_type": "code",
      "execution_count": null,
      "metadata": {
        "id": "wyvqDqyd_YMg"
      },
      "outputs": [],
      "source": [
        "import requests\n",
        "from bs4 import BeautifulSoup as BS\n",
        "import pandas as pd\n",
        "import numpy as np\n",
        "import concurrent.futures\n",
        "import itertools\n"
      ]
    },
    {
      "cell_type": "code",
      "execution_count": null,
      "metadata": {
        "colab": {
          "base_uri": "https://localhost:8080/"
        },
        "id": "aQWd3NedEXNi",
        "outputId": "978fd666-8948-4d45-f12a-d17bc72797df"
      },
      "outputs": [
        {
          "data": {
            "text/plain": [
              "<Response [200]>"
            ]
          },
          "execution_count": 4,
          "metadata": {},
          "output_type": "execute_result"
        }
      ],
      "source": [
        "url = requests.get('https://m2.ru/moskva/nedvizhimost/kupit-kvartiru/?pageNumber=1') #делаю запрос на сайт, ура, 200, ответ есть\n",
        "url"
      ]
    },
    {
      "cell_type": "code",
      "execution_count": null,
      "metadata": {
        "id": "zJFQhxAGGOHm"
      },
      "outputs": [],
      "source": [
        "bs_url = BS(url.content, 'html.parser') #закидываю запрос о сайте в blended soup, для более комфортной работы далее"
      ]
    },
    {
      "cell_type": "markdown",
      "metadata": {
        "id": "sO5HOYoHlT4W"
      },
      "source": [
        "Далее я хочу собрать ссылки по страницам с квартирами, по которым я и буду собирать свой датасет, для того с каждой страницы собираю ссылки на страницу с квартирой"
      ]
    },
    {
      "cell_type": "code",
      "execution_count": null,
      "metadata": {
        "colab": {
          "base_uri": "https://localhost:8080/",
          "height": 35
        },
        "id": "sUIs5mueM8mi",
        "outputId": "f7ef4267-39fd-4ad9-fe78-a56328f35414"
      },
      "outputs": [
        {
          "data": {
            "application/vnd.google.colaboratory.intrinsic+json": {
              "type": "string"
            },
            "text/plain": [
              "'https://m2.ru/moskva/nedvizhimost/prodazha-1-komnatnoi-kvartiri-38-5-m-10-22-etazh-dbe68544-45ee-41a5-9c7f-23a3f1bb47a4/'"
            ]
          },
          "execution_count": 6,
          "metadata": {},
          "output_type": "execute_result"
        }
      ],
      "source": [
        "bs_url.find('div', class_ = 'ClOfferSnippet__gallery').find('a').get('href')  #тут смотрю, всё ли нормально работает с 1 ссылкой (чтобы потом использовать этот код)"
      ]
    },
    {
      "cell_type": "code",
      "execution_count": null,
      "metadata": {
        "colab": {
          "base_uri": "https://localhost:8080/"
        },
        "id": "5tZlt_hihXfU",
        "outputId": "5e8ea09e-6e9f-48fd-e85d-15d64d71f762"
      },
      "outputs": [
        {
          "data": {
            "text/plain": [
              "20"
            ]
          },
          "execution_count": 7,
          "metadata": {},
          "output_type": "execute_result"
        }
      ],
      "source": [
        "flats = bs_url.findAll('div', class_ = 'ClOfferSnippet__gallery') #собираю информацию по всем квартирам со страницы, заодно посмотрю сколько их на 1 странице находится\n",
        "len(flats)"
      ]
    },
    {
      "cell_type": "code",
      "execution_count": null,
      "metadata": {
        "id": "lgNjpqqMk211"
      },
      "outputs": [],
      "source": [
        "flat_links_1_page = []\n",
        "for flat in flats:\n",
        "  flat_links_1_page.append(flat.find('a').get('href'))     #проверяю, собирает ли у меня информацию с 1 страницы"
      ]
    },
    {
      "cell_type": "code",
      "execution_count": null,
      "metadata": {
        "colab": {
          "base_uri": "https://localhost:8080/"
        },
        "id": "58ndU9UHnMb2",
        "outputId": "f9ec771c-ea0a-42dc-b2e4-967ae7f7e45f"
      },
      "outputs": [
        {
          "data": {
            "text/plain": [
              "['https://m2.ru/moskva/nedvizhimost/prodazha-1-komnatnoi-kvartiri-38-5-m-10-22-etazh-dbe68544-45ee-41a5-9c7f-23a3f1bb47a4/',\n",
              " 'https://m2.ru/moskva/nedvizhimost/prodazha-2-komnatnoi-kvartiri-69-9-m-29-30-etazh-ab3f268c-45a8-4479-a6a7-b1c6b7e8eb07/',\n",
              " 'https://m2.ru/moskva/nedvizhimost/prodazha-1-komnatnoi-kvartiri-38-6-m-9-24-etazh-7a4259ba-3152-4bd2-89e6-9ec92c661571/',\n",
              " 'https://m2.ru/moskva/nedvizhimost/prodazha-1-komnatnoi-kvartiri-32-4-m-14-33-etazh-a643445f-e7f6-4fd5-abff-d9014f64bcc6/',\n",
              " 'https://m2.ru/moskva/nedvizhimost/prodazha-kvartiri-so-svobodnoi-planirovkoi-42-4-m-39-41-etazh-2aef1ab1-26be-4b84-91b1-d08e86c05adb/',\n",
              " 'https://m2.ru/moskva/nedvizhimost/prodazha-1-komnatnoi-kvartiri-32-3-m-14-33-etazh-8bee3762-dc94-449e-80f2-1338a4315e24/',\n",
              " 'https://m2.ru/moskva/nedvizhimost/prodazha-2-komnatnoi-kvartiri-42-m-3-9-etazh-81393f45-e792-4a32-8684-8a1ebeac3c37/',\n",
              " 'https://m2.ru/moskva/nedvizhimost/prodazha-1-komnatnoi-kvartiri-36-1-m-7-33-etazh-f1a34406-f349-4640-9a62-54064a28bf03/',\n",
              " 'https://m2.ru/moskva/nedvizhimost/prodazha-1-komnatnoi-kvartiri-34-4-m-4-12-etazh-9c55c613-1d1f-4377-b25c-3c17e14421bc/',\n",
              " 'https://m2.ru/moskva/nedvizhimost/prodazha-1-komnatnoi-kvartiri-34-1-m-2-20-etazh-d84d2d31-b01d-4e93-9dd0-f84a6e237051/',\n",
              " 'https://m2.ru/moskva/nedvizhimost/prodazha-2-komnatnoi-kvartiri-63-8-m-3-25-etazh-b2f1fb0e-77a6-4c89-bc25-ff637b702584/',\n",
              " 'https://m2.ru/moskva/nedvizhimost/prodazha-kvartiri-studii-23-1-m-4-9-etazh-594fb977-e0b9-4043-8e28-518b2b57d46e/',\n",
              " 'https://m2.ru/moskva/nedvizhimost/prodazha-1-komnatnoi-kvartiri-41-9-m-13-25-etazh-56ef06d8-2186-4250-b3f0-f1bf6b4b4fab/',\n",
              " 'https://m2.ru/moskva/nedvizhimost/prodazha-kvartiri-studii-23-7-m-2-38-etazh-50de6edd-66c0-4a5c-8222-a78048744e2b/',\n",
              " 'https://m2.ru/moskva/nedvizhimost/prodazha-2-komnatnoi-kvartiri-52-5-m-5-5-etazh-8796b285-4395-4eb3-8ae4-068a44883e5d/',\n",
              " 'https://m2.ru/moskva/nedvizhimost/prodazha-1-komnatnoi-kvartiri-33-9-m-11-38-etazh-1501b5c2-ef65-4f41-afdc-97b219d39713/',\n",
              " 'https://m2.ru/moskva/nedvizhimost/prodazha-kvartiri-studii-10-8-m-1-5-etazh-d8b26de9-e2ee-4057-a890-b6e76906dce2/',\n",
              " 'https://m2.ru/moskva/nedvizhimost/prodazha-1-komnatnoi-kvartiri-34-m-19-28-etazh-6b1b4e25-f23d-4062-a464-2c4b71f4d708/',\n",
              " 'https://m2.ru/moskva/nedvizhimost/prodazha-2-komnatnoi-kvartiri-53-7-m-2-17-etazh-e16750cd-7a7a-43a0-9dce-3d705f3940d0/',\n",
              " 'https://m2.ru/moskva/nedvizhimost/prodazha-1-komnatnoi-kvartiri-45-6-m-16-36-etazh-dd4714e3-46d6-4913-974b-d1f0d3bcb9f2/']"
            ]
          },
          "execution_count": 9,
          "metadata": {},
          "output_type": "execute_result"
        }
      ],
      "source": [
        "flat_links_1_page  # убеждаюсь, что собирает"
      ]
    },
    {
      "cell_type": "code",
      "execution_count": null,
      "metadata": {
        "id": "abRwncgUoV8N"
      },
      "outputs": [],
      "source": [
        "pages_quantity = np.arange(501)[1::]  #на сайте 500 страниц с объявлениями, адресация страниц начинается с 1"
      ]
    },
    {
      "cell_type": "code",
      "execution_count": null,
      "metadata": {
        "id": "n-a5TmvWok6C"
      },
      "outputs": [],
      "source": [
        "flat_links_all = []\n",
        "for i in range(len(pages_quantity)):\n",
        "  url_i = requests.get('https://m2.ru/moskva/nedvizhimost/kupit-kvartiru/?pageNumber='+str(pages_quantity[i]))\n",
        "  bs_url_i = BS(url_i.content, 'html.parser')\n",
        "  flats_i = bs_url_i.findAll('div', class_ = 'ClOfferSnippet__gallery')\n",
        "  for flat in flats_i:\n",
        "    flat_links_all.append(flat.find('a').get('href'))"
      ]
    },
    {
      "cell_type": "code",
      "execution_count": null,
      "metadata": {
        "id": "UHz61ehCqBQZ"
      },
      "outputs": [],
      "source": [
        "all_links_for_flats= list(set(flat_links_all)) #чтобы не было повторений, перегоню это в множесвто, а потом опять в список, чтобы ушли повторяющиеся значения "
      ]
    },
    {
      "cell_type": "code",
      "execution_count": null,
      "metadata": {
        "colab": {
          "base_uri": "https://localhost:8080/"
        },
        "id": "uPAobkUpwZKt",
        "outputId": "f02bdbd5-db72-4a46-f60b-8b80a0a8b1f3"
      },
      "outputs": [
        {
          "data": {
            "text/plain": [
              "9659"
            ]
          },
          "execution_count": 12,
          "metadata": {},
          "output_type": "execute_result"
        }
      ],
      "source": [
        "len(all_links_for_flats) #смотрю, насколько меньше стало ссылок, несильно на много - это радует"
      ]
    },
    {
      "cell_type": "code",
      "execution_count": null,
      "metadata": {
        "id": "tFIkg6nyPhK4"
      },
      "outputs": [],
      "source": [
        "with open(\"all_links_for_flats.txt\", \"w\") as file:     #запишу список в текстовый файл, чтоб каждый раз не запускать код по-новому и не ждать 20 минут\n",
        "    for link in all_links_for_flats:\n",
        "          print(link, file=file)\n",
        "file.close()\n",
        "     "
      ]
    },
    {
      "cell_type": "markdown",
      "metadata": {
        "id": "d6XmJ0cUzYsk"
      },
      "source": [
        "### Переходим к сбору информации по каждой из квартир"
      ]
    },
    {
      "cell_type": "code",
      "execution_count": null,
      "metadata": {
        "colab": {
          "base_uri": "https://localhost:8080/"
        },
        "id": "zq-NmX2Yqf9P",
        "outputId": "9c622698-39a1-42cd-aac0-f0605eb7f344"
      },
      "outputs": [
        {
          "data": {
            "text/plain": [
              "<div class=\"fonts-module__primary___2PNSt DescriptionCell__value\">Хороший</div>"
            ]
          },
          "execution_count": 42,
          "metadata": {},
          "output_type": "execute_result"
        }
      ],
      "source": [
        "bs_url_room.find('div', class_ = 'fonts-module__primary___2PNSt DescriptionCell__value')"
      ]
    },
    {
      "cell_type": "code",
      "execution_count": null,
      "metadata": {
        "id": "C8gHcrl8jYC-"
      },
      "outputs": [],
      "source": [
        "#все используемые в парсинге функции\n",
        "def m2(link): #для площади пишу функцию, чтоб оставались только численные значения\n",
        "  j = ''\n",
        "  q = link.find_all('div', class_ = 'grid-module__cell___3uBi0')\n",
        "  for string in q:\n",
        "    if string.text[:16] == 'Площадь квартиры':\n",
        "      j=string.text[16:]\n",
        "  m2_mean = ''\n",
        "  for item in j:\n",
        "    item = item.replace(',', '.')\n",
        "    if ((item.isnumeric() == True) & (item != '²')) or item == '.':\n",
        "      m2_mean+= str(item)\n",
        "  return(float(m2_mean))\n",
        "\n",
        "def dist_to_subway(link, nes_dist):\n",
        "  if len(link.find('div', class_='OfferRouteCardList').find_all('a', class_='SubwayStation__link')) == 0:\n",
        "    return (np.nan)\n",
        "  subv_all = link.find('div', class_='OfferRouteCardList').find_all('div', class_='colors-named-module__secondary___2WPH_ fonts-module__primary___2PNSt')\n",
        "  list_time= []\n",
        "  for subv in subv_all:\n",
        "    if subv.text[::2].isnumeric() == True:\n",
        "      list_time.append(int(subv.text[:3]))\n",
        "    else:\n",
        "      list_time.append(int(subv.text[:2]))\n",
        "  if nes_dist == 'max':\n",
        "    return(max(list_time))\n",
        "  if nes_dist == 'min':\n",
        "    return(min(list_time))\n",
        "\n",
        "def dist_to_centr(link):\n",
        "  k = link.find('div', class_ ='ClClickableAddress__links').find_all('span')[-1].text\n",
        "  road__ = ''\n",
        "  for item in k:\n",
        "    item = item.replace(',', '.')\n",
        "    if ((item.isnumeric() == True) & (item != '²')) or item == '.':\n",
        "      road__+= str(item)\n",
        "  return(float(road__))"
      ]
    },
    {
      "cell_type": "code",
      "execution_count": null,
      "metadata": {
        "id": "4EgsE4cSWf65"
      },
      "outputs": [],
      "source": [
        "f = open('sample_data/all_links_for_flats.txt', 'r')\n",
        "\n",
        "all_links = [line.strip() for line in f]"
      ]
    },
    {
      "cell_type": "code",
      "execution_count": null,
      "metadata": {
        "colab": {
          "base_uri": "https://localhost:8080/"
        },
        "id": "E5WhaBzcXGlw",
        "outputId": "10cbf3ad-4be1-4bbc-933b-ac59aa861573"
      },
      "outputs": [
        {
          "data": {
            "text/plain": [
              "<function TextIOWrapper.close()>"
            ]
          },
          "execution_count": 4,
          "metadata": {},
          "output_type": "execute_result"
        }
      ],
      "source": [
        "f.close"
      ]
    },
    {
      "cell_type": "code",
      "execution_count": null,
      "metadata": {
        "colab": {
          "base_uri": "https://localhost:8080/",
          "height": 36
        },
        "id": "N5NMzHX0gV3d",
        "outputId": "c2f800ae-4dcb-416d-c4de-edd0892c5741"
      },
      "outputs": [
        {
          "data": {
            "application/vnd.google.colaboratory.intrinsic+json": {
              "type": "string"
            },
            "text/plain": [
              "'https://m2.ru/moskva/nedvizhimost/prodazha-2-komnatnoi-kvartiri-55-8-m-18-21-etazh-dbb74678-c12a-4282-82ac-73bb6e888770/'"
            ]
          },
          "execution_count": 12,
          "metadata": {},
          "output_type": "execute_result"
        }
      ],
      "source": [
        "all_links[12]"
      ]
    },
    {
      "cell_type": "code",
      "execution_count": null,
      "metadata": {
        "id": "VwAjGll8PuhW"
      },
      "outputs": [],
      "source": [
        "url_room = requests.get('https://m2.ru/moskva/nedvizhimost/prodazha-2-komnatnoi-kvartiri-55-8-m-18-21-etazh-dbb74678-c12a-4282-82ac-73bb6e888770/') #requests.get(all_links[0])\n",
        "bs_url_room = BS(url_room.content, 'html.parser')"
      ]
    },
    {
      "cell_type": "code",
      "execution_count": null,
      "metadata": {
        "colab": {
          "base_uri": "https://localhost:8080/"
        },
        "id": "yd_XTiuTPegr",
        "outputId": "7750c2de-77f6-4437-fbec-936a24b790dc"
      },
      "outputs": [
        {
          "data": {
            "text/plain": [
              "{'Наименование объявления': 'Продажа 2-комнатной квартиры 55,8\\xa0м², 18/21\\xa0этаж',\n",
              " 'Город': 'Москва',\n",
              " 'Район': 'САО',\n",
              " 'Количество станций метро рядом': 3,\n",
              " 'Самый длогий путь до метро': 17,\n",
              " 'Самый короткий путь до метро': 15,\n",
              " 'Расттояние до центра': 7.8,\n",
              " 'Площадь квартиры': 55.8,\n",
              " 'Цена квартиры': '28824000'}"
            ]
          },
          "execution_count": 15,
          "metadata": {},
          "output_type": "execute_result"
        }
      ],
      "source": [
        "need_inf(bs_url_room)"
      ]
    },
    {
      "cell_type": "code",
      "execution_count": null,
      "metadata": {
        "id": "YtoJiUUJ0QnC"
      },
      "outputs": [],
      "source": [
        "url_room = requests.get('https://m2.ru/moskva/nedvizhimost/prodazha-1-komnatnoi-kvartiri-36-9-m-12-14-etazh-05cfcf9f-36f6-440b-986c-95af4027ffd3/') #requests.get(all_links[0])\n",
        "bs_url_room = BS(url_room.content, 'html.parser')"
      ]
    },
    {
      "cell_type": "code",
      "execution_count": 72,
      "metadata": {
        "id": "6hZ6o5sQ0kz6"
      },
      "outputs": [],
      "source": [
        "#определя функцию для того, что мне искать на страничке\n",
        "def need_inf(link, df):\n",
        "  url_room = requests.get(link)\n",
        "  bs_url_room = BS(url_room.content, 'html.parser')\n",
        "\n",
        "  name = bs_url_room.find('h1', itemprop = 'name').text\n",
        "\n",
        "  city = bs_url_room.find('a', class_ = 'ClClickableAddress__link').text\n",
        "  district_ = (bs_url_room.find('div', class_ ='ClClickableAddress__links').find_all('span')[1].text)[:-1]\n",
        "\n",
        "  how_many_subways = len(bs_url_room.find('div', class_='OfferRouteCardList').find_all('a', class_='SubwayStation__link'))\n",
        "  subway_road_max = dist_to_subway(bs_url_room, \"max\")\n",
        "  subway_road_min = dist_to_subway(bs_url_room, \"min\")\n",
        "  road_to_centr = dist_to_centr(bs_url_room)\n",
        "\n",
        "  m2_ = m2(bs_url_room)\n",
        "  price_ = bs_url_room.find('span', itemprop = 'price').get('content')\n",
        "\n",
        "  df.loc[ len(df.index )]= [name, city, district_ , how_many_subways, subway_road_max, subway_road_min, road_to_centr, m2_, price_]\n",
        "  return(df)"
      ]
    },
    {
      "cell_type": "code",
      "execution_count": null,
      "metadata": {
        "colab": {
          "background_save": true
        },
        "id": "n3f0qd2dhwKJ"
      },
      "outputs": [],
      "source": [
        "need_inf(bs_url_room)"
      ]
    },
    {
      "cell_type": "code",
      "execution_count": null,
      "metadata": {
        "id": "HzJoZlWElL_A"
      },
      "outputs": [],
      "source": [
        "df_flats = pd.DataFrame(columns=['Наименование объявления', 'Город', \"Район\" , 'Количество станций метро рядом' , \"Самый длогий путь до метро\", \"Самый короткий путь до метро\", \"Расттояние до центра\", \"Площадь квартиры\", \"Цена квартиры\"])"
      ]
    },
    {
      "cell_type": "code",
      "execution_count": 75,
      "metadata": {
        "id": "1efnNG2gl0M9"
      },
      "outputs": [],
      "source": [
        "for url in all_links[:50]:\n",
        "  need_inf(url, df_flats)"
      ]
    },
    {
      "cell_type": "code",
      "execution_count": 76,
      "metadata": {
        "id": "HO4AoFFDpdp3",
        "colab": {
          "base_uri": "https://localhost:8080/",
          "height": 1000
        },
        "outputId": "5018aa20-7395-44b1-80c6-86db4656ef7d"
      },
      "outputs": [
        {
          "output_type": "execute_result",
          "data": {
            "text/plain": [
              "                             Наименование объявления   Город         Район  \\\n",
              "0          Продажа квартиры-студии 26 м², 12/22 этаж  Москва           САО   \n",
              "1     Продажа 2-комнатной квартиры 51 м², 13/24 этаж  Москва          СВАО   \n",
              "2   Продажа 3-комнатной квартиры 76,5 м², 12/52 этаж  Москва           ЗАО   \n",
              "3   Продажа 1-комнатной квартиры 36,9 м², 12/14 этаж  Москва          ЮВАО   \n",
              "4   Продажа 2-комнатной квартиры 77,4 м², 32/77 этаж  Москва           ЦАО   \n",
              "5    Продажа 3-комнатной квартиры 92,2 м², 3/13 этаж  Москва          СЗАО   \n",
              "6   Продажа 3-комнатной квартиры 73,4 м², 28/41 этаж  Москва           ЗАО   \n",
              "7   Продажа 1-комнатной квартиры 42,9 м², 10/18 этаж  Москва  Новая Москва   \n",
              "8     Продажа 2-комнатной квартиры 78 м², 38/68 этаж  Москва           ЦАО   \n",
              "9    Продажа 3-комнатной квартиры 73,3 м², 2/14 этаж  Москва  Новая Москва   \n",
              "10  Продажа 1-комнатной квартиры 35,9 м², 11/21 этаж  Москва           ЗАО   \n",
              "11  Продажа 3-комнатной квартиры 88,1 м², 14/21 этаж  Москва          СВАО   \n",
              "12  Продажа 2-комнатной квартиры 55,8 м², 18/21 этаж  Москва           САО   \n",
              "13  Продажа 1-комнатной квартиры 32,5 м², 33/33 этаж  Москва           ЮАО   \n",
              "14  Продажа 2-комнатной квартиры 56,2 м², 22/27 этаж  Москва          ЮВАО   \n",
              "15  Продажа 2-комнатной квартиры 42,6 м², 16/32 этаж  Москва          СЗАО   \n",
              "16        Продажа квартиры-студии 22,3 м², 3/52 этаж  Москва           ЮАО   \n",
              "17  Продажа 3-комнатной квартиры 95,5 м², 12/21 этаж  Москва           САО   \n",
              "18      Продажа 1-комнатной квартиры 29 м², 2/5 этаж  Москва           ЮАО   \n",
              "19  Продажа 3-комнатной квартиры 61,5 м², 13/14 этаж  Москва  Новая Москва   \n",
              "20   Продажа 1-комнатной квартиры 42,4 м², 8/12 этаж  Москва           САО   \n",
              "21   Продажа 1-комнатной квартиры 40,9 м², 9/12 этаж  Москва  Новая Москва   \n",
              "22  Продажа 3-комнатной квартиры 85,9 м², 13/21 этаж  Москва  Новая Москва   \n",
              "23  Продажа 2-комнатной квартиры 62,3 м², 41/52 этаж  Москва          СЗАО   \n",
              "24    Продажа 3-комнатной квартиры 73,1 м², 4/5 этаж  Москва           ЦАО   \n",
              "25      Продажа 3-комнатной квартиры 59 м², 8/9 этаж  Москва          ЮЗАО   \n",
              "26   Продажа 3-комнатной квартиры 77,8 м², 2/21 этаж  Москва           САО   \n",
              "27  Продажа 2-комнатной квартиры 48,7 м², 28/33 этаж  Москва           ЮАО   \n",
              "28        Продажа квартиры-студии 18,5 м², 8/10 этаж  Москва           ЗАО   \n",
              "29    Продажа 2-комнатной квартиры 55 м², 34/53 этаж  Москва          СЗАО   \n",
              "30   Продажа 2-комнатной квартиры 65,2 м², 7/15 этаж  Москва  Новая Москва   \n",
              "31  Продажа 1-комнатной квартиры 35,5 м², 11/15 этаж  Москва  Новая Москва   \n",
              "32     Продажа 1-комнатной квартиры 38 м², 6/24 этаж  Москва           ВАО   \n",
              "33    Продажа 2-комнатной квартиры 46,3 м², 1/9 этаж  Москва          ЮЗАО   \n",
              "34    Продажа 3-комнатной квартиры 86 м², 16/16 этаж  Москва           ЗАО   \n",
              "35    Продажа 1-комнатной квартиры 37 м², 16/16 этаж  Москва          ЮВАО   \n",
              "36    Продажа 1-комнатной квартиры 34,2 м², 9/9 этаж  Москва  Новая Москва   \n",
              "37   Продажа 2-комнатной квартиры 56,8 м², 4/22 этаж  Москва          ЮВАО   \n",
              "38    Продажа 1-комнатной квартиры 37 м², 16/16 этаж  Москва          ЮВАО   \n",
              "39    Продажа 1-комнатной квартиры 32 м², 20/23 этаж  Москва           ЗАО   \n",
              "40  Продажа 2-комнатной квартиры 67,5 м², 46/68 этаж  Москва           ЦАО   \n",
              "41    Продажа 3-комнатной квартиры 73 м², 19/23 этаж  Москва           ЗАО   \n",
              "42       Продажа квартиры-студии 23,2 м², 14/17 этаж  Москва  Новая Москва   \n",
              "43    Продажа 2-комнатной квартиры 56,5 м², 4/9 этаж  Москва  Новая Москва   \n",
              "44         Продажа квартиры-студии 21,5 м², 3/8 этаж  Москва           ЦАО   \n",
              "45    Продажа 2-комнатной квартиры 52,7 м², 5/5 этаж  Москва  Новая Москва   \n",
              "46   Продажа 2-комнатной квартиры 57,4 м², 2/17 этаж  Москва          СВАО   \n",
              "47        Продажа квартиры-студии 32,5 м², 6/13 этаж  Москва           САО   \n",
              "48    Продажа 1-комнатной квартиры 38 м², 17/17 этаж  Москва          СЗАО   \n",
              "49  Продажа 2-комнатной квартиры 61,8 м², 13/14 этаж  Москва  Новая Москва   \n",
              "\n",
              "    Количество станций метро рядом  Самый длогий путь до метро  \\\n",
              "0                                3                        30.0   \n",
              "1                                3                        27.0   \n",
              "2                                3                        21.0   \n",
              "3                                3                        15.0   \n",
              "4                                3                        12.0   \n",
              "5                                3                        30.0   \n",
              "6                                3                        25.0   \n",
              "7                                3                        28.0   \n",
              "8                                3                        12.0   \n",
              "9                                3                        79.0   \n",
              "10                               3                        28.0   \n",
              "11                               3                        18.0   \n",
              "12                               3                        17.0   \n",
              "13                               3                        26.0   \n",
              "14                               3                        26.0   \n",
              "15                               3                        29.0   \n",
              "16                               3                        30.0   \n",
              "17                               3                        31.0   \n",
              "18                               3                        24.0   \n",
              "19                               3                        36.0   \n",
              "20                               3                        23.0   \n",
              "21                               3                        32.0   \n",
              "22                               3                        44.0   \n",
              "23                               3                        28.0   \n",
              "24                               3                        22.0   \n",
              "25                               3                        21.0   \n",
              "26                               3                        17.0   \n",
              "27                               3                        25.0   \n",
              "28                               3                        27.0   \n",
              "29                               3                        28.0   \n",
              "30                               3                        35.0   \n",
              "31                               3                        30.0   \n",
              "32                               3                        29.0   \n",
              "33                               3                        25.0   \n",
              "34                               3                        25.0   \n",
              "35                               3                        24.0   \n",
              "36                               3                        62.0   \n",
              "37                               3                        18.0   \n",
              "38                               3                        20.0   \n",
              "39                               3                        24.0   \n",
              "40                               3                        12.0   \n",
              "41                               3                        26.0   \n",
              "42                               3                        28.0   \n",
              "43                               3                        62.0   \n",
              "44                               3                        19.0   \n",
              "45                               0                         NaN   \n",
              "46                               3                        28.0   \n",
              "47                               3                        22.0   \n",
              "48                               3                        26.0   \n",
              "49                               3                        62.0   \n",
              "\n",
              "    Самый короткий путь до метро  Расттояние до центра  Площадь квартиры  \\\n",
              "0                           16.0                  13.5              26.0   \n",
              "1                           11.0                  12.1              51.0   \n",
              "2                           15.0                  10.7              76.5   \n",
              "3                           10.0                   5.8              36.9   \n",
              "4                            6.0                   5.5              77.4   \n",
              "5                           13.0                  13.9              92.2   \n",
              "6                           15.0                  11.1              73.4   \n",
              "7                           14.0                  29.2              42.9   \n",
              "8                            4.0                   5.6              78.0   \n",
              "9                           68.0                  29.8              73.3   \n",
              "10                           9.0                  12.1              35.9   \n",
              "11                          14.0                   7.5              88.1   \n",
              "12                          15.0                   7.8              55.8   \n",
              "13                          20.0                   8.8              32.5   \n",
              "14                          17.0                   4.3              56.2   \n",
              "15                          20.0                   6.7              42.6   \n",
              "16                          22.0                  13.9              22.3   \n",
              "17                          22.0                  16.5              95.5   \n",
              "18                          10.0                  13.6              29.0   \n",
              "19                          31.0                  23.1              61.5   \n",
              "20                          13.0                   5.1              42.4   \n",
              "21                          25.0                  23.0              40.9   \n",
              "22                          37.0                  23.5              85.9   \n",
              "23                          12.0                  16.3              62.3   \n",
              "24                          17.0                   5.0              73.1   \n",
              "25                           7.0                  15.2              59.0   \n",
              "26                          15.0                   7.8              77.8   \n",
              "27                           7.0                  18.5              48.7   \n",
              "28                           6.0                  11.6              18.5   \n",
              "29                          12.0                  16.4              55.0   \n",
              "30                          17.0                  23.3              65.2   \n",
              "31                          13.0                  19.9              35.5   \n",
              "32                          21.0                  10.8              38.0   \n",
              "33                          12.0                  15.5              46.3   \n",
              "34                           6.0                  18.9              86.0   \n",
              "35                          18.0                  13.4              37.0   \n",
              "36                          52.0                  29.6              34.2   \n",
              "37                           8.0                  13.8              56.8   \n",
              "38                          11.0                  10.3              37.0   \n",
              "39                           5.0                  20.7              32.0   \n",
              "40                           4.0                   5.6              67.5   \n",
              "41                          13.0                   9.3              73.0   \n",
              "42                          14.0                  20.9              23.2   \n",
              "43                          52.0                  29.6              56.5   \n",
              "44                           8.0                   4.9              21.5   \n",
              "45                           NaN                  15.0              52.7   \n",
              "46                          19.0                  10.9              57.4   \n",
              "47                           6.0                   6.7              32.5   \n",
              "48                           8.0                  19.4              38.0   \n",
              "49                          52.0                  29.4              61.8   \n",
              "\n",
              "   Цена квартиры  \n",
              "0       10200000  \n",
              "1       15068970  \n",
              "2       35800000  \n",
              "3       12500000  \n",
              "4       63500000  \n",
              "5       27983253  \n",
              "6       25000000  \n",
              "7        7950000  \n",
              "8       69750000  \n",
              "9       14073600  \n",
              "10      12324257  \n",
              "11      40230000  \n",
              "12      28824000  \n",
              "13       9188270  \n",
              "14      22614880  \n",
              "15      19451442  \n",
              "16       9349988  \n",
              "17      35000000  \n",
              "18       8700000  \n",
              "19      11500000  \n",
              "20      14700000  \n",
              "21      12912310  \n",
              "22      17540817  \n",
              "23      25187440  \n",
              "24      21500000  \n",
              "25      15000000  \n",
              "26      31180760  \n",
              "27      12534211  \n",
              "28       7100000  \n",
              "29      20467068  \n",
              "30      16300000  \n",
              "31      10690000  \n",
              "32      11800000  \n",
              "33      12900000  \n",
              "34      23450000  \n",
              "35       8900000  \n",
              "36       6155563  \n",
              "37      16200000  \n",
              "38      12000000  \n",
              "39      11000000  \n",
              "40      68000000  \n",
              "41      30600000  \n",
              "42       7800000  \n",
              "43       8735920  \n",
              "44       7600000  \n",
              "45       5500000  \n",
              "46      13412313  \n",
              "47      13500000  \n",
              "48      11300000  \n",
              "49      10189336  "
            ],
            "text/html": [
              "\n",
              "  <div id=\"df-90dbfd9d-4b7b-4ffe-bcd3-150dd69ef9e0\">\n",
              "    <div class=\"colab-df-container\">\n",
              "      <div>\n",
              "<style scoped>\n",
              "    .dataframe tbody tr th:only-of-type {\n",
              "        vertical-align: middle;\n",
              "    }\n",
              "\n",
              "    .dataframe tbody tr th {\n",
              "        vertical-align: top;\n",
              "    }\n",
              "\n",
              "    .dataframe thead th {\n",
              "        text-align: right;\n",
              "    }\n",
              "</style>\n",
              "<table border=\"1\" class=\"dataframe\">\n",
              "  <thead>\n",
              "    <tr style=\"text-align: right;\">\n",
              "      <th></th>\n",
              "      <th>Наименование объявления</th>\n",
              "      <th>Город</th>\n",
              "      <th>Район</th>\n",
              "      <th>Количество станций метро рядом</th>\n",
              "      <th>Самый длогий путь до метро</th>\n",
              "      <th>Самый короткий путь до метро</th>\n",
              "      <th>Расттояние до центра</th>\n",
              "      <th>Площадь квартиры</th>\n",
              "      <th>Цена квартиры</th>\n",
              "    </tr>\n",
              "  </thead>\n",
              "  <tbody>\n",
              "    <tr>\n",
              "      <th>0</th>\n",
              "      <td>Продажа квартиры-студии 26 м², 12/22 этаж</td>\n",
              "      <td>Москва</td>\n",
              "      <td>САО</td>\n",
              "      <td>3</td>\n",
              "      <td>30.0</td>\n",
              "      <td>16.0</td>\n",
              "      <td>13.5</td>\n",
              "      <td>26.0</td>\n",
              "      <td>10200000</td>\n",
              "    </tr>\n",
              "    <tr>\n",
              "      <th>1</th>\n",
              "      <td>Продажа 2-комнатной квартиры 51 м², 13/24 этаж</td>\n",
              "      <td>Москва</td>\n",
              "      <td>СВАО</td>\n",
              "      <td>3</td>\n",
              "      <td>27.0</td>\n",
              "      <td>11.0</td>\n",
              "      <td>12.1</td>\n",
              "      <td>51.0</td>\n",
              "      <td>15068970</td>\n",
              "    </tr>\n",
              "    <tr>\n",
              "      <th>2</th>\n",
              "      <td>Продажа 3-комнатной квартиры 76,5 м², 12/52 этаж</td>\n",
              "      <td>Москва</td>\n",
              "      <td>ЗАО</td>\n",
              "      <td>3</td>\n",
              "      <td>21.0</td>\n",
              "      <td>15.0</td>\n",
              "      <td>10.7</td>\n",
              "      <td>76.5</td>\n",
              "      <td>35800000</td>\n",
              "    </tr>\n",
              "    <tr>\n",
              "      <th>3</th>\n",
              "      <td>Продажа 1-комнатной квартиры 36,9 м², 12/14 этаж</td>\n",
              "      <td>Москва</td>\n",
              "      <td>ЮВАО</td>\n",
              "      <td>3</td>\n",
              "      <td>15.0</td>\n",
              "      <td>10.0</td>\n",
              "      <td>5.8</td>\n",
              "      <td>36.9</td>\n",
              "      <td>12500000</td>\n",
              "    </tr>\n",
              "    <tr>\n",
              "      <th>4</th>\n",
              "      <td>Продажа 2-комнатной квартиры 77,4 м², 32/77 этаж</td>\n",
              "      <td>Москва</td>\n",
              "      <td>ЦАО</td>\n",
              "      <td>3</td>\n",
              "      <td>12.0</td>\n",
              "      <td>6.0</td>\n",
              "      <td>5.5</td>\n",
              "      <td>77.4</td>\n",
              "      <td>63500000</td>\n",
              "    </tr>\n",
              "    <tr>\n",
              "      <th>5</th>\n",
              "      <td>Продажа 3-комнатной квартиры 92,2 м², 3/13 этаж</td>\n",
              "      <td>Москва</td>\n",
              "      <td>СЗАО</td>\n",
              "      <td>3</td>\n",
              "      <td>30.0</td>\n",
              "      <td>13.0</td>\n",
              "      <td>13.9</td>\n",
              "      <td>92.2</td>\n",
              "      <td>27983253</td>\n",
              "    </tr>\n",
              "    <tr>\n",
              "      <th>6</th>\n",
              "      <td>Продажа 3-комнатной квартиры 73,4 м², 28/41 этаж</td>\n",
              "      <td>Москва</td>\n",
              "      <td>ЗАО</td>\n",
              "      <td>3</td>\n",
              "      <td>25.0</td>\n",
              "      <td>15.0</td>\n",
              "      <td>11.1</td>\n",
              "      <td>73.4</td>\n",
              "      <td>25000000</td>\n",
              "    </tr>\n",
              "    <tr>\n",
              "      <th>7</th>\n",
              "      <td>Продажа 1-комнатной квартиры 42,9 м², 10/18 этаж</td>\n",
              "      <td>Москва</td>\n",
              "      <td>Новая Москва</td>\n",
              "      <td>3</td>\n",
              "      <td>28.0</td>\n",
              "      <td>14.0</td>\n",
              "      <td>29.2</td>\n",
              "      <td>42.9</td>\n",
              "      <td>7950000</td>\n",
              "    </tr>\n",
              "    <tr>\n",
              "      <th>8</th>\n",
              "      <td>Продажа 2-комнатной квартиры 78 м², 38/68 этаж</td>\n",
              "      <td>Москва</td>\n",
              "      <td>ЦАО</td>\n",
              "      <td>3</td>\n",
              "      <td>12.0</td>\n",
              "      <td>4.0</td>\n",
              "      <td>5.6</td>\n",
              "      <td>78.0</td>\n",
              "      <td>69750000</td>\n",
              "    </tr>\n",
              "    <tr>\n",
              "      <th>9</th>\n",
              "      <td>Продажа 3-комнатной квартиры 73,3 м², 2/14 этаж</td>\n",
              "      <td>Москва</td>\n",
              "      <td>Новая Москва</td>\n",
              "      <td>3</td>\n",
              "      <td>79.0</td>\n",
              "      <td>68.0</td>\n",
              "      <td>29.8</td>\n",
              "      <td>73.3</td>\n",
              "      <td>14073600</td>\n",
              "    </tr>\n",
              "    <tr>\n",
              "      <th>10</th>\n",
              "      <td>Продажа 1-комнатной квартиры 35,9 м², 11/21 этаж</td>\n",
              "      <td>Москва</td>\n",
              "      <td>ЗАО</td>\n",
              "      <td>3</td>\n",
              "      <td>28.0</td>\n",
              "      <td>9.0</td>\n",
              "      <td>12.1</td>\n",
              "      <td>35.9</td>\n",
              "      <td>12324257</td>\n",
              "    </tr>\n",
              "    <tr>\n",
              "      <th>11</th>\n",
              "      <td>Продажа 3-комнатной квартиры 88,1 м², 14/21 этаж</td>\n",
              "      <td>Москва</td>\n",
              "      <td>СВАО</td>\n",
              "      <td>3</td>\n",
              "      <td>18.0</td>\n",
              "      <td>14.0</td>\n",
              "      <td>7.5</td>\n",
              "      <td>88.1</td>\n",
              "      <td>40230000</td>\n",
              "    </tr>\n",
              "    <tr>\n",
              "      <th>12</th>\n",
              "      <td>Продажа 2-комнатной квартиры 55,8 м², 18/21 этаж</td>\n",
              "      <td>Москва</td>\n",
              "      <td>САО</td>\n",
              "      <td>3</td>\n",
              "      <td>17.0</td>\n",
              "      <td>15.0</td>\n",
              "      <td>7.8</td>\n",
              "      <td>55.8</td>\n",
              "      <td>28824000</td>\n",
              "    </tr>\n",
              "    <tr>\n",
              "      <th>13</th>\n",
              "      <td>Продажа 1-комнатной квартиры 32,5 м², 33/33 этаж</td>\n",
              "      <td>Москва</td>\n",
              "      <td>ЮАО</td>\n",
              "      <td>3</td>\n",
              "      <td>26.0</td>\n",
              "      <td>20.0</td>\n",
              "      <td>8.8</td>\n",
              "      <td>32.5</td>\n",
              "      <td>9188270</td>\n",
              "    </tr>\n",
              "    <tr>\n",
              "      <th>14</th>\n",
              "      <td>Продажа 2-комнатной квартиры 56,2 м², 22/27 этаж</td>\n",
              "      <td>Москва</td>\n",
              "      <td>ЮВАО</td>\n",
              "      <td>3</td>\n",
              "      <td>26.0</td>\n",
              "      <td>17.0</td>\n",
              "      <td>4.3</td>\n",
              "      <td>56.2</td>\n",
              "      <td>22614880</td>\n",
              "    </tr>\n",
              "    <tr>\n",
              "      <th>15</th>\n",
              "      <td>Продажа 2-комнатной квартиры 42,6 м², 16/32 этаж</td>\n",
              "      <td>Москва</td>\n",
              "      <td>СЗАО</td>\n",
              "      <td>3</td>\n",
              "      <td>29.0</td>\n",
              "      <td>20.0</td>\n",
              "      <td>6.7</td>\n",
              "      <td>42.6</td>\n",
              "      <td>19451442</td>\n",
              "    </tr>\n",
              "    <tr>\n",
              "      <th>16</th>\n",
              "      <td>Продажа квартиры-студии 22,3 м², 3/52 этаж</td>\n",
              "      <td>Москва</td>\n",
              "      <td>ЮАО</td>\n",
              "      <td>3</td>\n",
              "      <td>30.0</td>\n",
              "      <td>22.0</td>\n",
              "      <td>13.9</td>\n",
              "      <td>22.3</td>\n",
              "      <td>9349988</td>\n",
              "    </tr>\n",
              "    <tr>\n",
              "      <th>17</th>\n",
              "      <td>Продажа 3-комнатной квартиры 95,5 м², 12/21 этаж</td>\n",
              "      <td>Москва</td>\n",
              "      <td>САО</td>\n",
              "      <td>3</td>\n",
              "      <td>31.0</td>\n",
              "      <td>22.0</td>\n",
              "      <td>16.5</td>\n",
              "      <td>95.5</td>\n",
              "      <td>35000000</td>\n",
              "    </tr>\n",
              "    <tr>\n",
              "      <th>18</th>\n",
              "      <td>Продажа 1-комнатной квартиры 29 м², 2/5 этаж</td>\n",
              "      <td>Москва</td>\n",
              "      <td>ЮАО</td>\n",
              "      <td>3</td>\n",
              "      <td>24.0</td>\n",
              "      <td>10.0</td>\n",
              "      <td>13.6</td>\n",
              "      <td>29.0</td>\n",
              "      <td>8700000</td>\n",
              "    </tr>\n",
              "    <tr>\n",
              "      <th>19</th>\n",
              "      <td>Продажа 3-комнатной квартиры 61,5 м², 13/14 этаж</td>\n",
              "      <td>Москва</td>\n",
              "      <td>Новая Москва</td>\n",
              "      <td>3</td>\n",
              "      <td>36.0</td>\n",
              "      <td>31.0</td>\n",
              "      <td>23.1</td>\n",
              "      <td>61.5</td>\n",
              "      <td>11500000</td>\n",
              "    </tr>\n",
              "    <tr>\n",
              "      <th>20</th>\n",
              "      <td>Продажа 1-комнатной квартиры 42,4 м², 8/12 этаж</td>\n",
              "      <td>Москва</td>\n",
              "      <td>САО</td>\n",
              "      <td>3</td>\n",
              "      <td>23.0</td>\n",
              "      <td>13.0</td>\n",
              "      <td>5.1</td>\n",
              "      <td>42.4</td>\n",
              "      <td>14700000</td>\n",
              "    </tr>\n",
              "    <tr>\n",
              "      <th>21</th>\n",
              "      <td>Продажа 1-комнатной квартиры 40,9 м², 9/12 этаж</td>\n",
              "      <td>Москва</td>\n",
              "      <td>Новая Москва</td>\n",
              "      <td>3</td>\n",
              "      <td>32.0</td>\n",
              "      <td>25.0</td>\n",
              "      <td>23.0</td>\n",
              "      <td>40.9</td>\n",
              "      <td>12912310</td>\n",
              "    </tr>\n",
              "    <tr>\n",
              "      <th>22</th>\n",
              "      <td>Продажа 3-комнатной квартиры 85,9 м², 13/21 этаж</td>\n",
              "      <td>Москва</td>\n",
              "      <td>Новая Москва</td>\n",
              "      <td>3</td>\n",
              "      <td>44.0</td>\n",
              "      <td>37.0</td>\n",
              "      <td>23.5</td>\n",
              "      <td>85.9</td>\n",
              "      <td>17540817</td>\n",
              "    </tr>\n",
              "    <tr>\n",
              "      <th>23</th>\n",
              "      <td>Продажа 2-комнатной квартиры 62,3 м², 41/52 этаж</td>\n",
              "      <td>Москва</td>\n",
              "      <td>СЗАО</td>\n",
              "      <td>3</td>\n",
              "      <td>28.0</td>\n",
              "      <td>12.0</td>\n",
              "      <td>16.3</td>\n",
              "      <td>62.3</td>\n",
              "      <td>25187440</td>\n",
              "    </tr>\n",
              "    <tr>\n",
              "      <th>24</th>\n",
              "      <td>Продажа 3-комнатной квартиры 73,1 м², 4/5 этаж</td>\n",
              "      <td>Москва</td>\n",
              "      <td>ЦАО</td>\n",
              "      <td>3</td>\n",
              "      <td>22.0</td>\n",
              "      <td>17.0</td>\n",
              "      <td>5.0</td>\n",
              "      <td>73.1</td>\n",
              "      <td>21500000</td>\n",
              "    </tr>\n",
              "    <tr>\n",
              "      <th>25</th>\n",
              "      <td>Продажа 3-комнатной квартиры 59 м², 8/9 этаж</td>\n",
              "      <td>Москва</td>\n",
              "      <td>ЮЗАО</td>\n",
              "      <td>3</td>\n",
              "      <td>21.0</td>\n",
              "      <td>7.0</td>\n",
              "      <td>15.2</td>\n",
              "      <td>59.0</td>\n",
              "      <td>15000000</td>\n",
              "    </tr>\n",
              "    <tr>\n",
              "      <th>26</th>\n",
              "      <td>Продажа 3-комнатной квартиры 77,8 м², 2/21 этаж</td>\n",
              "      <td>Москва</td>\n",
              "      <td>САО</td>\n",
              "      <td>3</td>\n",
              "      <td>17.0</td>\n",
              "      <td>15.0</td>\n",
              "      <td>7.8</td>\n",
              "      <td>77.8</td>\n",
              "      <td>31180760</td>\n",
              "    </tr>\n",
              "    <tr>\n",
              "      <th>27</th>\n",
              "      <td>Продажа 2-комнатной квартиры 48,7 м², 28/33 этаж</td>\n",
              "      <td>Москва</td>\n",
              "      <td>ЮАО</td>\n",
              "      <td>3</td>\n",
              "      <td>25.0</td>\n",
              "      <td>7.0</td>\n",
              "      <td>18.5</td>\n",
              "      <td>48.7</td>\n",
              "      <td>12534211</td>\n",
              "    </tr>\n",
              "    <tr>\n",
              "      <th>28</th>\n",
              "      <td>Продажа квартиры-студии 18,5 м², 8/10 этаж</td>\n",
              "      <td>Москва</td>\n",
              "      <td>ЗАО</td>\n",
              "      <td>3</td>\n",
              "      <td>27.0</td>\n",
              "      <td>6.0</td>\n",
              "      <td>11.6</td>\n",
              "      <td>18.5</td>\n",
              "      <td>7100000</td>\n",
              "    </tr>\n",
              "    <tr>\n",
              "      <th>29</th>\n",
              "      <td>Продажа 2-комнатной квартиры 55 м², 34/53 этаж</td>\n",
              "      <td>Москва</td>\n",
              "      <td>СЗАО</td>\n",
              "      <td>3</td>\n",
              "      <td>28.0</td>\n",
              "      <td>12.0</td>\n",
              "      <td>16.4</td>\n",
              "      <td>55.0</td>\n",
              "      <td>20467068</td>\n",
              "    </tr>\n",
              "    <tr>\n",
              "      <th>30</th>\n",
              "      <td>Продажа 2-комнатной квартиры 65,2 м², 7/15 этаж</td>\n",
              "      <td>Москва</td>\n",
              "      <td>Новая Москва</td>\n",
              "      <td>3</td>\n",
              "      <td>35.0</td>\n",
              "      <td>17.0</td>\n",
              "      <td>23.3</td>\n",
              "      <td>65.2</td>\n",
              "      <td>16300000</td>\n",
              "    </tr>\n",
              "    <tr>\n",
              "      <th>31</th>\n",
              "      <td>Продажа 1-комнатной квартиры 35,5 м², 11/15 этаж</td>\n",
              "      <td>Москва</td>\n",
              "      <td>Новая Москва</td>\n",
              "      <td>3</td>\n",
              "      <td>30.0</td>\n",
              "      <td>13.0</td>\n",
              "      <td>19.9</td>\n",
              "      <td>35.5</td>\n",
              "      <td>10690000</td>\n",
              "    </tr>\n",
              "    <tr>\n",
              "      <th>32</th>\n",
              "      <td>Продажа 1-комнатной квартиры 38 м², 6/24 этаж</td>\n",
              "      <td>Москва</td>\n",
              "      <td>ВАО</td>\n",
              "      <td>3</td>\n",
              "      <td>29.0</td>\n",
              "      <td>21.0</td>\n",
              "      <td>10.8</td>\n",
              "      <td>38.0</td>\n",
              "      <td>11800000</td>\n",
              "    </tr>\n",
              "    <tr>\n",
              "      <th>33</th>\n",
              "      <td>Продажа 2-комнатной квартиры 46,3 м², 1/9 этаж</td>\n",
              "      <td>Москва</td>\n",
              "      <td>ЮЗАО</td>\n",
              "      <td>3</td>\n",
              "      <td>25.0</td>\n",
              "      <td>12.0</td>\n",
              "      <td>15.5</td>\n",
              "      <td>46.3</td>\n",
              "      <td>12900000</td>\n",
              "    </tr>\n",
              "    <tr>\n",
              "      <th>34</th>\n",
              "      <td>Продажа 3-комнатной квартиры 86 м², 16/16 этаж</td>\n",
              "      <td>Москва</td>\n",
              "      <td>ЗАО</td>\n",
              "      <td>3</td>\n",
              "      <td>25.0</td>\n",
              "      <td>6.0</td>\n",
              "      <td>18.9</td>\n",
              "      <td>86.0</td>\n",
              "      <td>23450000</td>\n",
              "    </tr>\n",
              "    <tr>\n",
              "      <th>35</th>\n",
              "      <td>Продажа 1-комнатной квартиры 37 м², 16/16 этаж</td>\n",
              "      <td>Москва</td>\n",
              "      <td>ЮВАО</td>\n",
              "      <td>3</td>\n",
              "      <td>24.0</td>\n",
              "      <td>18.0</td>\n",
              "      <td>13.4</td>\n",
              "      <td>37.0</td>\n",
              "      <td>8900000</td>\n",
              "    </tr>\n",
              "    <tr>\n",
              "      <th>36</th>\n",
              "      <td>Продажа 1-комнатной квартиры 34,2 м², 9/9 этаж</td>\n",
              "      <td>Москва</td>\n",
              "      <td>Новая Москва</td>\n",
              "      <td>3</td>\n",
              "      <td>62.0</td>\n",
              "      <td>52.0</td>\n",
              "      <td>29.6</td>\n",
              "      <td>34.2</td>\n",
              "      <td>6155563</td>\n",
              "    </tr>\n",
              "    <tr>\n",
              "      <th>37</th>\n",
              "      <td>Продажа 2-комнатной квартиры 56,8 м², 4/22 этаж</td>\n",
              "      <td>Москва</td>\n",
              "      <td>ЮВАО</td>\n",
              "      <td>3</td>\n",
              "      <td>18.0</td>\n",
              "      <td>8.0</td>\n",
              "      <td>13.8</td>\n",
              "      <td>56.8</td>\n",
              "      <td>16200000</td>\n",
              "    </tr>\n",
              "    <tr>\n",
              "      <th>38</th>\n",
              "      <td>Продажа 1-комнатной квартиры 37 м², 16/16 этаж</td>\n",
              "      <td>Москва</td>\n",
              "      <td>ЮВАО</td>\n",
              "      <td>3</td>\n",
              "      <td>20.0</td>\n",
              "      <td>11.0</td>\n",
              "      <td>10.3</td>\n",
              "      <td>37.0</td>\n",
              "      <td>12000000</td>\n",
              "    </tr>\n",
              "    <tr>\n",
              "      <th>39</th>\n",
              "      <td>Продажа 1-комнатной квартиры 32 м², 20/23 этаж</td>\n",
              "      <td>Москва</td>\n",
              "      <td>ЗАО</td>\n",
              "      <td>3</td>\n",
              "      <td>24.0</td>\n",
              "      <td>5.0</td>\n",
              "      <td>20.7</td>\n",
              "      <td>32.0</td>\n",
              "      <td>11000000</td>\n",
              "    </tr>\n",
              "    <tr>\n",
              "      <th>40</th>\n",
              "      <td>Продажа 2-комнатной квартиры 67,5 м², 46/68 этаж</td>\n",
              "      <td>Москва</td>\n",
              "      <td>ЦАО</td>\n",
              "      <td>3</td>\n",
              "      <td>12.0</td>\n",
              "      <td>4.0</td>\n",
              "      <td>5.6</td>\n",
              "      <td>67.5</td>\n",
              "      <td>68000000</td>\n",
              "    </tr>\n",
              "    <tr>\n",
              "      <th>41</th>\n",
              "      <td>Продажа 3-комнатной квартиры 73 м², 19/23 этаж</td>\n",
              "      <td>Москва</td>\n",
              "      <td>ЗАО</td>\n",
              "      <td>3</td>\n",
              "      <td>26.0</td>\n",
              "      <td>13.0</td>\n",
              "      <td>9.3</td>\n",
              "      <td>73.0</td>\n",
              "      <td>30600000</td>\n",
              "    </tr>\n",
              "    <tr>\n",
              "      <th>42</th>\n",
              "      <td>Продажа квартиры-студии 23,2 м², 14/17 этаж</td>\n",
              "      <td>Москва</td>\n",
              "      <td>Новая Москва</td>\n",
              "      <td>3</td>\n",
              "      <td>28.0</td>\n",
              "      <td>14.0</td>\n",
              "      <td>20.9</td>\n",
              "      <td>23.2</td>\n",
              "      <td>7800000</td>\n",
              "    </tr>\n",
              "    <tr>\n",
              "      <th>43</th>\n",
              "      <td>Продажа 2-комнатной квартиры 56,5 м², 4/9 этаж</td>\n",
              "      <td>Москва</td>\n",
              "      <td>Новая Москва</td>\n",
              "      <td>3</td>\n",
              "      <td>62.0</td>\n",
              "      <td>52.0</td>\n",
              "      <td>29.6</td>\n",
              "      <td>56.5</td>\n",
              "      <td>8735920</td>\n",
              "    </tr>\n",
              "    <tr>\n",
              "      <th>44</th>\n",
              "      <td>Продажа квартиры-студии 21,5 м², 3/8 этаж</td>\n",
              "      <td>Москва</td>\n",
              "      <td>ЦАО</td>\n",
              "      <td>3</td>\n",
              "      <td>19.0</td>\n",
              "      <td>8.0</td>\n",
              "      <td>4.9</td>\n",
              "      <td>21.5</td>\n",
              "      <td>7600000</td>\n",
              "    </tr>\n",
              "    <tr>\n",
              "      <th>45</th>\n",
              "      <td>Продажа 2-комнатной квартиры 52,7 м², 5/5 этаж</td>\n",
              "      <td>Москва</td>\n",
              "      <td>Новая Москва</td>\n",
              "      <td>0</td>\n",
              "      <td>NaN</td>\n",
              "      <td>NaN</td>\n",
              "      <td>15.0</td>\n",
              "      <td>52.7</td>\n",
              "      <td>5500000</td>\n",
              "    </tr>\n",
              "    <tr>\n",
              "      <th>46</th>\n",
              "      <td>Продажа 2-комнатной квартиры 57,4 м², 2/17 этаж</td>\n",
              "      <td>Москва</td>\n",
              "      <td>СВАО</td>\n",
              "      <td>3</td>\n",
              "      <td>28.0</td>\n",
              "      <td>19.0</td>\n",
              "      <td>10.9</td>\n",
              "      <td>57.4</td>\n",
              "      <td>13412313</td>\n",
              "    </tr>\n",
              "    <tr>\n",
              "      <th>47</th>\n",
              "      <td>Продажа квартиры-студии 32,5 м², 6/13 этаж</td>\n",
              "      <td>Москва</td>\n",
              "      <td>САО</td>\n",
              "      <td>3</td>\n",
              "      <td>22.0</td>\n",
              "      <td>6.0</td>\n",
              "      <td>6.7</td>\n",
              "      <td>32.5</td>\n",
              "      <td>13500000</td>\n",
              "    </tr>\n",
              "    <tr>\n",
              "      <th>48</th>\n",
              "      <td>Продажа 1-комнатной квартиры 38 м², 17/17 этаж</td>\n",
              "      <td>Москва</td>\n",
              "      <td>СЗАО</td>\n",
              "      <td>3</td>\n",
              "      <td>26.0</td>\n",
              "      <td>8.0</td>\n",
              "      <td>19.4</td>\n",
              "      <td>38.0</td>\n",
              "      <td>11300000</td>\n",
              "    </tr>\n",
              "    <tr>\n",
              "      <th>49</th>\n",
              "      <td>Продажа 2-комнатной квартиры 61,8 м², 13/14 этаж</td>\n",
              "      <td>Москва</td>\n",
              "      <td>Новая Москва</td>\n",
              "      <td>3</td>\n",
              "      <td>62.0</td>\n",
              "      <td>52.0</td>\n",
              "      <td>29.4</td>\n",
              "      <td>61.8</td>\n",
              "      <td>10189336</td>\n",
              "    </tr>\n",
              "  </tbody>\n",
              "</table>\n",
              "</div>\n",
              "      <button class=\"colab-df-convert\" onclick=\"convertToInteractive('df-90dbfd9d-4b7b-4ffe-bcd3-150dd69ef9e0')\"\n",
              "              title=\"Convert this dataframe to an interactive table.\"\n",
              "              style=\"display:none;\">\n",
              "        \n",
              "  <svg xmlns=\"http://www.w3.org/2000/svg\" height=\"24px\"viewBox=\"0 0 24 24\"\n",
              "       width=\"24px\">\n",
              "    <path d=\"M0 0h24v24H0V0z\" fill=\"none\"/>\n",
              "    <path d=\"M18.56 5.44l.94 2.06.94-2.06 2.06-.94-2.06-.94-.94-2.06-.94 2.06-2.06.94zm-11 1L8.5 8.5l.94-2.06 2.06-.94-2.06-.94L8.5 2.5l-.94 2.06-2.06.94zm10 10l.94 2.06.94-2.06 2.06-.94-2.06-.94-.94-2.06-.94 2.06-2.06.94z\"/><path d=\"M17.41 7.96l-1.37-1.37c-.4-.4-.92-.59-1.43-.59-.52 0-1.04.2-1.43.59L10.3 9.45l-7.72 7.72c-.78.78-.78 2.05 0 2.83L4 21.41c.39.39.9.59 1.41.59.51 0 1.02-.2 1.41-.59l7.78-7.78 2.81-2.81c.8-.78.8-2.07 0-2.86zM5.41 20L4 18.59l7.72-7.72 1.47 1.35L5.41 20z\"/>\n",
              "  </svg>\n",
              "      </button>\n",
              "      \n",
              "  <style>\n",
              "    .colab-df-container {\n",
              "      display:flex;\n",
              "      flex-wrap:wrap;\n",
              "      gap: 12px;\n",
              "    }\n",
              "\n",
              "    .colab-df-convert {\n",
              "      background-color: #E8F0FE;\n",
              "      border: none;\n",
              "      border-radius: 50%;\n",
              "      cursor: pointer;\n",
              "      display: none;\n",
              "      fill: #1967D2;\n",
              "      height: 32px;\n",
              "      padding: 0 0 0 0;\n",
              "      width: 32px;\n",
              "    }\n",
              "\n",
              "    .colab-df-convert:hover {\n",
              "      background-color: #E2EBFA;\n",
              "      box-shadow: 0px 1px 2px rgba(60, 64, 67, 0.3), 0px 1px 3px 1px rgba(60, 64, 67, 0.15);\n",
              "      fill: #174EA6;\n",
              "    }\n",
              "\n",
              "    [theme=dark] .colab-df-convert {\n",
              "      background-color: #3B4455;\n",
              "      fill: #D2E3FC;\n",
              "    }\n",
              "\n",
              "    [theme=dark] .colab-df-convert:hover {\n",
              "      background-color: #434B5C;\n",
              "      box-shadow: 0px 1px 3px 1px rgba(0, 0, 0, 0.15);\n",
              "      filter: drop-shadow(0px 1px 2px rgba(0, 0, 0, 0.3));\n",
              "      fill: #FFFFFF;\n",
              "    }\n",
              "  </style>\n",
              "\n",
              "      <script>\n",
              "        const buttonEl =\n",
              "          document.querySelector('#df-90dbfd9d-4b7b-4ffe-bcd3-150dd69ef9e0 button.colab-df-convert');\n",
              "        buttonEl.style.display =\n",
              "          google.colab.kernel.accessAllowed ? 'block' : 'none';\n",
              "\n",
              "        async function convertToInteractive(key) {\n",
              "          const element = document.querySelector('#df-90dbfd9d-4b7b-4ffe-bcd3-150dd69ef9e0');\n",
              "          const dataTable =\n",
              "            await google.colab.kernel.invokeFunction('convertToInteractive',\n",
              "                                                     [key], {});\n",
              "          if (!dataTable) return;\n",
              "\n",
              "          const docLinkHtml = 'Like what you see? Visit the ' +\n",
              "            '<a target=\"_blank\" href=https://colab.research.google.com/notebooks/data_table.ipynb>data table notebook</a>'\n",
              "            + ' to learn more about interactive tables.';\n",
              "          element.innerHTML = '';\n",
              "          dataTable['output_type'] = 'display_data';\n",
              "          await google.colab.output.renderOutput(dataTable, element);\n",
              "          const docLink = document.createElement('div');\n",
              "          docLink.innerHTML = docLinkHtml;\n",
              "          element.appendChild(docLink);\n",
              "        }\n",
              "      </script>\n",
              "    </div>\n",
              "  </div>\n",
              "  "
            ]
          },
          "metadata": {},
          "execution_count": 76
        }
      ],
      "source": [
        "df_flats"
      ]
    },
    {
      "cell_type": "code",
      "execution_count": 86,
      "metadata": {
        "id": "jIIXMzziRAqv"
      },
      "outputs": [],
      "source": [
        "df_flats.to_csv('flats_info.csv', index= False)"
      ]
    },
    {
      "cell_type": "markdown",
      "metadata": {
        "id": "sRA9R-sncvAU"
      },
      "source": [
        "В этом разделе я просто смотрю, работает ли код правильно"
      ]
    },
    {
      "cell_type": "code",
      "execution_count": null,
      "metadata": {
        "colab": {
          "base_uri": "https://localhost:8080/",
          "height": 35
        },
        "id": "ZumlsGYTbQLv",
        "outputId": "423de7d2-fb4c-4e75-9724-52af9ed98ae8"
      },
      "outputs": [
        {
          "data": {
            "application/vnd.google.colaboratory.intrinsic+json": {
              "type": "string"
            },
            "text/plain": [
              "'Продажа 2-комнатной квартиры 53,7\\xa0м², 2/17\\xa0этаж'"
            ]
          },
          "execution_count": 8,
          "metadata": {},
          "output_type": "execute_result"
        }
      ],
      "source": [
        "bs_url_room.find('h1', itemprop = 'name').text"
      ]
    },
    {
      "cell_type": "code",
      "execution_count": null,
      "metadata": {
        "colab": {
          "base_uri": "https://localhost:8080/",
          "height": 35
        },
        "id": "LkJMi0g8ctiF",
        "outputId": "294f634f-f586-418a-81e7-f32f3df89e4c"
      },
      "outputs": [
        {
          "data": {
            "application/vnd.google.colaboratory.intrinsic+json": {
              "type": "string"
            },
            "text/plain": [
              "'Москва'"
            ]
          },
          "execution_count": 9,
          "metadata": {},
          "output_type": "execute_result"
        }
      ],
      "source": [
        "bs_url_room.find('a', class_ = 'ClClickableAddress__link').text"
      ]
    },
    {
      "cell_type": "code",
      "execution_count": null,
      "metadata": {
        "colab": {
          "base_uri": "https://localhost:8080/"
        },
        "id": "ir3c5Plvfp2O",
        "outputId": "3431f708-aa01-4e55-b4f9-ca4517f2ebf2"
      },
      "outputs": [
        {
          "data": {
            "text/plain": [
              "136.918101214"
            ]
          },
          "execution_count": 62,
          "metadata": {},
          "output_type": "execute_result"
        }
      ],
      "source": [
        "m2(bs_url_room)"
      ]
    },
    {
      "cell_type": "code",
      "execution_count": null,
      "metadata": {
        "colab": {
          "base_uri": "https://localhost:8080/",
          "height": 35
        },
        "id": "yua0QXTyk4yL",
        "outputId": "efa71d02-a8ea-4b20-99db-c41aa4e4c187"
      },
      "outputs": [
        {
          "data": {
            "application/vnd.google.colaboratory.intrinsic+json": {
              "type": "string"
            },
            "text/plain": [
              "'14800000'"
            ]
          },
          "execution_count": 11,
          "metadata": {},
          "output_type": "execute_result"
        }
      ],
      "source": [
        "bs_url_room.find('span', itemprop = 'price').get('content')"
      ]
    },
    {
      "cell_type": "code",
      "execution_count": null,
      "metadata": {
        "colab": {
          "base_uri": "https://localhost:8080/",
          "height": 35
        },
        "id": "v54lMZvZ4ZAy",
        "outputId": "f07406e0-842f-4511-fa7d-ea834346ccef"
      },
      "outputs": [
        {
          "data": {
            "application/vnd.google.colaboratory.intrinsic+json": {
              "type": "string"
            },
            "text/plain": [
              "'ВАО'"
            ]
          },
          "execution_count": 12,
          "metadata": {},
          "output_type": "execute_result"
        }
      ],
      "source": [
        "(bs_url_room.find('div', class_ ='ClClickableAddress__links').find_all('span')[1].text)[:-1]"
      ]
    },
    {
      "cell_type": "code",
      "execution_count": null,
      "metadata": {
        "colab": {
          "base_uri": "https://localhost:8080/"
        },
        "id": "R55eMuFpC0QD",
        "outputId": "5d08b28d-9e58-4a57-a31a-848f136436c3"
      },
      "outputs": [
        {
          "data": {
            "text/plain": [
              "3"
            ]
          },
          "execution_count": 166,
          "metadata": {},
          "output_type": "execute_result"
        }
      ],
      "source": [
        "len(bs_url_room.find('div', class_='OfferRouteCardList').find_all('a', class_='SubwayStation__link'))"
      ]
    },
    {
      "cell_type": "code",
      "execution_count": null,
      "metadata": {
        "colab": {
          "base_uri": "https://localhost:8080/"
        },
        "id": "GAZWgd4AR3u7",
        "outputId": "a5f29385-8367-48b6-ce4a-90611eb2f68a"
      },
      "outputs": [
        {
          "data": {
            "text/plain": [
              "6"
            ]
          },
          "execution_count": 170,
          "metadata": {},
          "output_type": "execute_result"
        }
      ],
      "source": [
        "dist_to_subway(bs_url_room, \"min\")"
      ]
    },
    {
      "cell_type": "code",
      "execution_count": null,
      "metadata": {
        "colab": {
          "base_uri": "https://localhost:8080/"
        },
        "id": "_-2an7DuVk9z",
        "outputId": "4fa73834-037f-4d6e-d7d5-c7dc00af7707"
      },
      "outputs": [
        {
          "data": {
            "text/plain": [
              "12.2"
            ]
          },
          "execution_count": 176,
          "metadata": {},
          "output_type": "execute_result"
        }
      ],
      "source": [
        "dist_to_centr(bs_url_room)"
      ]
    }
  ],
  "metadata": {
    "colab": {
      "provenance": []
    },
    "kernelspec": {
      "display_name": "Python 3",
      "name": "python3"
    },
    "language_info": {
      "name": "python"
    }
  },
  "nbformat": 4,
  "nbformat_minor": 0
}